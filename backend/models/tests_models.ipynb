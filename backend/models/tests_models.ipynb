{
 "cells": [
  {
   "cell_type": "code",
   "execution_count": 10,
   "metadata": {},
   "outputs": [
    {
     "name": "stdout",
     "output_type": "stream",
     "text": [
      "\u001b[38;5;247mic\u001b[39m\u001b[38;5;245m|\u001b[39m\u001b[38;5;245m \u001b[39m\u001b[38;5;36m'\u001b[39m\u001b[38;5;36mbonjour\u001b[39m\u001b[38;5;36m'\u001b[39m\n",
      "\n"
     ]
    }
   ],
   "source": [
    "from pathlib import Path\n",
    "\n",
    "import pandas as pd\n",
    "from icecream import colorize, ic\n",
    "\n",
    "from backend.Database import Database\n",
    "\n",
    "from icecream import ic, colorize\n",
    "\n",
    "import os\n",
    "\n",
    "ic.configureOutput(outputFunction=lambda s: print(colorize(s) + \"\\n\"))  # print debug\n",
    "ic(\"bonjour\");"
   ]
  },
  {
   "cell_type": "code",
   "execution_count": null,
   "metadata": {},
   "outputs": [],
   "source": [
    "def init_data_to_df():\n",
    "    path_to_root = Path(__file__) / \"..\" / \"..\" / \"..\"\n",
    "    path_to_root = path_to_root.resolve()\n",
    "\n",
    "    path_to_data = path_to_root / \"data\"\n",
    "\n",
    "    excel_sheet_names = (\n",
    "        pd.ExcelFile(path_to_data / \"taux_remplissage_comcom_nebbiu.xlsx\")\n",
    "    ).sheet_names\n",
    "    \n",
    "    df = pd.read_excel(\n",
    "        path_to_data / \"taux_remplissage_comcom_nebbiu.xlsx\", sheet_name=excel_sheet_names, header=1)\n",
    "    \n",
    "\n",
    "    for key, value in df.items():\n",
    "        for i, row in value.iterrows():\n",
    "            for j in range(2, len(row),3):\n",
    "                print(row[j])\n"
   ]
  },
  {
   "cell_type": "code",
   "execution_count": 40,
   "metadata": {},
   "outputs": [
    {
     "name": "stdout",
     "output_type": "stream",
     "text": [
      "olmeta di tuda\n",
      "nan\n",
      "rapale\n",
      "nan\n",
      "santu petro di tenda \n",
      "nan\n",
      "BARBAGGIO\n",
      "nan\n",
      "sorio\n",
      "nan\n",
      "pieve\n",
      "nan\n",
      "oletta\n",
      "nan\n",
      "saint florent \n",
      "nan\n",
      "poggio oletta\n",
      "nan\n",
      "vallecalle\n",
      "nan\n",
      "rutali\n",
      "nan\n",
      "farinole\n",
      "nan\n",
      "murato\n",
      "nan\n",
      "patrimonio\n",
      "nan\n",
      "casta\n",
      "nan\n",
      "san gavino di tenda\n",
      "nan\n"
     ]
    }
   ],
   "source": [
    "\n",
    "\n",
    "def init_excel_to_df(path=\"../../data/taux_remplissage_comcom_nebbiu.xlsx\"):\n",
    "\n",
    "    excel_sheet_names = (\n",
    "        pd.ExcelFile(path)\n",
    "    ).sheet_names\n",
    "    df_sheets = pd.read_excel(\n",
    "    path, sheet_name=excel_sheet_names, header=1\n",
    "    )\n",
    "\n",
    "\n",
    "\n",
    "    for key, value in df_sheets.items():\n",
    "        print(key)\n",
    "        for i, row in value.iterrows():\n",
    "            flagGPS = false\n",
    "            if i == 3:\n",
    "                flagGPS = True\n",
    "             \n",
    "            for j in range(2, len(row), 3):\n",
    "                if flagGPS:\n",
    "                    print(row.iloc[j])\n",
    "                pass\n",
    "                # print(row.iloc[j+1])\n",
    "                # print(row.iloc[j+2])\n",
    "                \n",
    "                \n",
    "        \n",
    "init_excel_to_df()"
   ]
  },
  {
   "cell_type": "code",
   "execution_count": null,
   "metadata": {},
   "outputs": [],
   "source": []
  }
 ],
 "metadata": {
  "kernelspec": {
   "display_name": ".venv",
   "language": "python",
   "name": "python3"
  },
  "language_info": {
   "codemirror_mode": {
    "name": "ipython",
    "version": 3
   },
   "file_extension": ".py",
   "mimetype": "text/x-python",
   "name": "python",
   "nbconvert_exporter": "python",
   "pygments_lexer": "ipython3",
   "version": "3.11.6"
  }
 },
 "nbformat": 4,
 "nbformat_minor": 2
}
